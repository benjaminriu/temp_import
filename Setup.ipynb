{
 "cells": [
  {
   "cell_type": "markdown",
   "id": "55fc467d",
   "metadata": {},
   "source": [
    "# Create directories"
   ]
  },
  {
   "cell_type": "raw",
   "id": "8cae2060",
   "metadata": {
    "ExecuteTime": {
     "end_time": "2021-11-27T14:06:20.930827Z",
     "start_time": "2021-11-27T14:06:20.868250Z"
    }
   },
   "source": [
    "%%bash\n",
    "mkdir ../preprocessed_datasets\n",
    "mkdir outputs\n",
    "mkdir predictions\n",
    "mkdir ../feature_reorder_index\n",
    "mkdir ../reordered_datasets"
   ]
  },
  {
   "cell_type": "markdown",
   "id": "e1cda1cd",
   "metadata": {},
   "source": [
    "# Download data"
   ]
  },
  {
   "cell_type": "raw",
   "id": "2c3517f3",
   "metadata": {
    "ExecuteTime": {
     "end_time": "2021-12-13T12:43:31.492182Z",
     "start_time": "2021-12-13T12:43:31.376814Z"
    }
   },
   "source": [
    "%%bash\n",
    "python download_data.py '../preprocessed_datasets/'"
   ]
  },
  {
   "cell_type": "markdown",
   "id": "8dc4d81e",
   "metadata": {},
   "source": [
    "# Create Env\n",
    "### If no gpu available, replace \n",
    "conda install pytorch=1.9.1 cudatoolkit=11.1 -c pytorch -c conda-forge -y\n",
    "### with \n",
    "conda install pytorch=1.9.1 -c pytorch -y"
   ]
  },
  {
   "cell_type": "markdown",
   "id": "69f028b6",
   "metadata": {},
   "source": [
    "### Benchmark env"
   ]
  },
  {
   "cell_type": "raw",
   "id": "3e151c32",
   "metadata": {},
   "source": [
    "%%bash\n",
    "conda create -n mlrnet_benchmark python=3.7\n",
    "conda activate mlrnet_benchmark\n",
    "conda install ipykernel pandas=1.1.3 scikit-learn=0.23.2 -y\n",
    "conda install -c conda-forge sklearn-contrib-py-earth=0.1.0 xgboost=1.3.3 catboost=0.26.1 lightgbm=3.2.1 optuna=2.10.0 -y\n",
    "conda install pytorch=1.9.1 cudatoolkit=11.1 -c pytorch -c conda-forge -y\n",
    "conda deactivate"
   ]
  },
  {
   "cell_type": "markdown",
   "id": "75ffce1b",
   "metadata": {},
   "source": [
    "### Demo env"
   ]
  },
  {
   "cell_type": "raw",
   "id": "d6ceb8f2",
   "metadata": {
    "ExecuteTime": {
     "end_time": "2021-12-13T10:20:44.066571Z",
     "start_time": "2021-12-13T10:20:39.716186Z"
    }
   },
   "source": [
    "%%bash\n",
    "conda create -n mlrnet_demo python=3.7\n",
    "conda activate mlrnet_demo\n",
    "conda install ipykernel pandas=1.1.3 scikit-learn=0.23.2 -y\n",
    "conda install pytorch=1.9.1 cudatoolkit=11.1 -c pytorch -c conda-forge -y\n",
    "conda deactivate"
   ]
  },
  {
   "cell_type": "markdown",
   "id": "9cc6be32",
   "metadata": {},
   "source": [
    "# Check available env packages"
   ]
  },
  {
   "cell_type": "code",
   "execution_count": 1,
   "id": "1504fa7e",
   "metadata": {
    "ExecuteTime": {
     "end_time": "2021-12-13T12:40:12.319261Z",
     "start_time": "2021-12-13T12:40:12.307394Z"
    }
   },
   "outputs": [
    {
     "name": "stdout",
     "output_type": "stream",
     "text": [
      "available packages: sklearn torch xgboost catboost lightgbm pyearth optuna\n"
     ]
    }
   ],
   "source": [
    "import importlib\n",
    "libs = ['sklearn','torch','xgboost','catboost','lightgbm','pyearth','fastai','optuna']\n",
    "print(\"Available packages:\",*[lib for lib in libs if importlib.util.find_spec(lib) is not None])"
   ]
  },
  {
   "cell_type": "markdown",
   "id": "436dc2b0",
   "metadata": {},
   "source": [
    "# Check gpu available"
   ]
  },
  {
   "cell_type": "code",
   "execution_count": 3,
   "id": "b266c7b4",
   "metadata": {
    "ExecuteTime": {
     "end_time": "2021-12-13T12:42:00.756230Z",
     "start_time": "2021-12-13T12:42:00.751830Z"
    }
   },
   "outputs": [
    {
     "name": "stdout",
     "output_type": "stream",
     "text": [
      "GPU available: True\n"
     ]
    }
   ],
   "source": [
    "import importlib\n",
    "if importlib.util.find_spec('torch'):\n",
    "    import torch.cuda\n",
    "    print(\"GPU available:\", torch.cuda.is_available())"
   ]
  }
 ],
 "metadata": {
  "kernelspec": {
   "display_name": "Python [conda env:mlrnet_benchmark]",
   "language": "python",
   "name": "conda-env-mlrnet_benchmark-py"
  },
  "language_info": {
   "codemirror_mode": {
    "name": "ipython",
    "version": 3
   },
   "file_extension": ".py",
   "mimetype": "text/x-python",
   "name": "python",
   "nbconvert_exporter": "python",
   "pygments_lexer": "ipython3",
   "version": "3.7.11"
  }
 },
 "nbformat": 4,
 "nbformat_minor": 5
}
