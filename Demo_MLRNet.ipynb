{
 "cells": [
  {
   "cell_type": "code",
   "execution_count": 12,
   "id": "99c12f66",
   "metadata": {
    "ExecuteTime": {
     "end_time": "2021-12-07T09:06:25.249575Z",
     "start_time": "2021-12-07T09:06:25.245688Z"
    }
   },
   "outputs": [],
   "source": [
    "import numpy as np\n",
    "from MLRNet import *\n",
    "from mlrnet_architectures import *\n",
    "from copy import deepcopy\n",
    "import torch\n",
    "from sklearn.metrics import r2_score\n",
    "from sklearn.metrics import accuracy_score as acc\n",
    "from sklearn.metrics import roc_auc_score as auc"
   ]
  },
  {
   "cell_type": "code",
   "execution_count": 13,
   "id": "b91f0134",
   "metadata": {
    "ExecuteTime": {
     "end_time": "2021-12-07T09:06:26.477426Z",
     "start_time": "2021-12-07T09:06:26.474334Z"
    }
   },
   "outputs": [],
   "source": [
    "device = \"cuda\" if torch.cuda.is_available() else \"cpu\""
   ]
  },
  {
   "cell_type": "code",
   "execution_count": 14,
   "id": "29d5b03a",
   "metadata": {
    "ExecuteTime": {
     "end_time": "2021-12-07T09:06:27.705923Z",
     "start_time": "2021-12-07T09:06:27.703375Z"
    }
   },
   "outputs": [],
   "source": [
    "seed = 0"
   ]
  },
  {
   "cell_type": "markdown",
   "id": "f87a8623",
   "metadata": {
    "ExecuteTime": {
     "end_time": "2021-12-05T17:31:42.421438Z",
     "start_time": "2021-12-05T17:31:42.418668Z"
    }
   },
   "source": [
    "# Boston Dataset"
   ]
  },
  {
   "cell_type": "code",
   "execution_count": 3,
   "id": "899c4c5b",
   "metadata": {
    "ExecuteTime": {
     "end_time": "2021-12-05T18:02:36.113537Z",
     "start_time": "2021-12-05T18:02:36.092339Z"
    },
    "code_folding": [
     4,
     12
    ]
   },
   "outputs": [],
   "source": [
    "from sklearn.preprocessing import StandardScaler\n",
    "from sklearn.model_selection import train_test_split as tts\n",
    "from sklearn.datasets import load_boston as lb\n",
    "def prepare_dataset(X, y, train_size = 0.8, normalize_X = True, seed= False):\n",
    "    kwargs = {}\n",
    "    if seed or type(seed)== type(0):\n",
    "        kwargs[\"random_state\"] = seed\n",
    "        np.random.seed(seed)\n",
    "    if normalize_X: X = StandardScaler().fit_transform(X)\n",
    "    X_train, X_test, y_train, y_test = tts(X, y, train_size = train_size, **kwargs)\n",
    "    return X_train, X_test, y_train, y_test\n",
    "def prepare_boston(train_size = 0.8, seed= 0, normalize_X = True, standardize_y = True):\n",
    "    X,y = lb(return_X_y=True)\n",
    "    if standardize_y: y = (y - y.mean())/y.std()\n",
    "    X_train, X_test, y_train, y_test = prepare_dataset(X, y, train_size = train_size , seed=seed, normalize_X = normalize_X)\n",
    "    return X_train, X_test, y_train, y_test"
   ]
  },
  {
   "cell_type": "code",
   "execution_count": 4,
   "id": "9623b92e",
   "metadata": {
    "ExecuteTime": {
     "end_time": "2021-12-05T18:02:36.120727Z",
     "start_time": "2021-12-05T18:02:36.114634Z"
    }
   },
   "outputs": [],
   "source": [
    "X_train, X_test, y_train, y_test = prepare_boston(seed = seed, standardize_y = False)"
   ]
  },
  {
   "cell_type": "markdown",
   "id": "42bd53c5",
   "metadata": {},
   "source": [
    "# Check Random Forests"
   ]
  },
  {
   "cell_type": "code",
   "execution_count": 5,
   "id": "2c78b425",
   "metadata": {
    "ExecuteTime": {
     "end_time": "2021-12-05T18:02:38.250428Z",
     "start_time": "2021-12-05T18:02:36.121930Z"
    }
   },
   "outputs": [
    {
     "name": "stdout",
     "output_type": "stream",
     "text": [
      "RF R2-score : 0.7685762389779094\n"
     ]
    }
   ],
   "source": [
    "from sklearn.ensemble import RandomForestRegressor as RF\n",
    "reg = RF(n_estimators = 1000, random_state = seed)\n",
    "reg.fit(X_train,y_train)\n",
    "print(\"RF\",\"R2-score :\",reg.score(X_test, y_test))"
   ]
  },
  {
   "cell_type": "markdown",
   "id": "b9a23210",
   "metadata": {},
   "source": [
    "# Define basic nn architectures"
   ]
  },
  {
   "cell_type": "code",
   "execution_count": 6,
   "id": "d2726954",
   "metadata": {
    "ExecuteTime": {
     "end_time": "2021-12-05T18:02:38.254934Z",
     "start_time": "2021-12-05T18:02:38.251767Z"
    }
   },
   "outputs": [],
   "source": [
    "import architectures\n",
    "mlrnetfastv3 = {\"lr_scheduler\" : \"OneCycleLR\",\n",
    "                \"lr_scheduler_params\" : {\"max_lr\":1e-2, \"total_steps\" : 200},\n",
    "                \"max_iter\":200,\n",
    "                \"learning_rate\":1e-3, #useless with OneCycleLR\n",
    "                \"hidden_nn\" : architectures.DenseLayers,\n",
    "                \"hidden_params\" :  {\"width\":256,\"depth\":2, \"device\":device}   #2layers, 256 neurons per layer, 200 iterations        \n",
    "                }\n",
    "mlrnetslowv2 = {\"lr_scheduler\" : \"OneCycleLR\",\n",
    "                \"lr_scheduler_params\" : {\"max_lr\":1e-3, \"total_steps\" : 500},\n",
    "                \"max_iter\":500,\n",
    "                \"learning_rate\":1e-3, #useless with OneCycleLR\n",
    "                \"hidden_nn\" : architectures.DenseLayers,\n",
    "                \"hidden_params\" :  {\"width\":1024,\"depth\":2, \"device\":device} #2layers, 1024 neurons per layer, 500 iterations     \n",
    "                }"
   ]
  },
  {
   "cell_type": "markdown",
   "id": "600010c8",
   "metadata": {},
   "source": [
    "# MLRNet"
   ]
  },
  {
   "cell_type": "code",
   "execution_count": 7,
   "id": "6853c993",
   "metadata": {
    "ExecuteTime": {
     "end_time": "2021-12-05T18:02:41.949718Z",
     "start_time": "2021-12-05T18:02:38.256072Z"
    }
   },
   "outputs": [
    {
     "name": "stdout",
     "output_type": "stream",
     "text": [
      "MLRNet-fast R2-score : 0.7933839775958988\n"
     ]
    }
   ],
   "source": [
    "default_parameters = deepcopy(eval(\"mlrnetfastv3\"))\n",
    "default_parameters[\"hidden_params\"][\"n_features\"] = X_train.shape[-1]\n",
    "reg = MLRNetRegressor(random_state = seed, **default_parameters)\n",
    "reg.fit(X_train,y_train)\n",
    "print(\"MLRNet-fast\",\"R2-score :\",reg.score(X_test, y_test))\n",
    "reg.delete_model_weights()  #else gpu memory leaks\n",
    "del reg"
   ]
  },
  {
   "cell_type": "code",
   "execution_count": 8,
   "id": "38f95ded",
   "metadata": {
    "ExecuteTime": {
     "end_time": "2021-12-05T18:02:48.387053Z",
     "start_time": "2021-12-05T18:02:41.950775Z"
    }
   },
   "outputs": [
    {
     "name": "stdout",
     "output_type": "stream",
     "text": [
      "MLRNet-wide R2-score : 0.8184638398794895\n"
     ]
    }
   ],
   "source": [
    "default_parameters = deepcopy(eval(\"mlrnetslowv2\"))\n",
    "default_parameters[\"hidden_params\"][\"n_features\"] = X_train.shape[-1]\n",
    "reg = MLRNetRegressor(random_state = seed, **default_parameters)\n",
    "reg.fit(X_train,y_train)\n",
    "print(\"MLRNet-wide\",\"R2-score :\",reg.score(X_test, y_test))\n",
    "reg.delete_model_weights()  #else gpu memory leaks\n",
    "del reg"
   ]
  },
  {
   "cell_type": "markdown",
   "id": "b8bb3ee7",
   "metadata": {},
   "source": [
    "# Regular Net, same architecture + BatchNorm & DropOut"
   ]
  },
  {
   "cell_type": "code",
   "execution_count": 9,
   "id": "4fa20dc2",
   "metadata": {
    "ExecuteTime": {
     "end_time": "2021-12-05T18:02:49.061009Z",
     "start_time": "2021-12-05T18:02:48.388182Z"
    }
   },
   "outputs": [
    {
     "name": "stdout",
     "output_type": "stream",
     "text": [
      "Regular Net-fast R2-score : 0.7983281142962326\n"
     ]
    }
   ],
   "source": [
    "NN_params = deepcopy(eval(\"mlrnetfastv3\"))\n",
    "NN_params[\"closeform_parameter_init\"] = False #No closeform\n",
    "NN_params[\"hidden_params\"].update({\"dropout\":0.1, \"batch_norm\":True, \"output\":1})\n",
    "NN_params[\"hidden_params\"][\"n_features\"] = X_train.shape[-1]\n",
    "\n",
    "reg = MLRNetRegressor(random_state = seed, **NN_params)\n",
    "reg.fit(X_train,y_train)\n",
    "print(\"Regular Net-fast\",\"R2-score :\",reg.score(X_test, y_test))\n",
    "reg.delete_model_weights()  #else gpu memory leaks\n",
    "del reg"
   ]
  },
  {
   "cell_type": "code",
   "execution_count": 10,
   "id": "bb85a540",
   "metadata": {
    "ExecuteTime": {
     "end_time": "2021-12-05T18:02:51.056838Z",
     "start_time": "2021-12-05T18:02:49.062397Z"
    }
   },
   "outputs": [
    {
     "name": "stdout",
     "output_type": "stream",
     "text": [
      "Regular Net-wide R2-score : 0.7625664811538111\n"
     ]
    }
   ],
   "source": [
    "NN_params = deepcopy(eval(\"mlrnetslowv2\"))\n",
    "NN_params[\"closeform_parameter_init\"] = False #No closeform\n",
    "NN_params[\"hidden_params\"].update({\"dropout\":0.1, \"batch_norm\":True, \"output\":1})\n",
    "NN_params[\"hidden_params\"][\"n_features\"] = X_train.shape[-1]\n",
    "\n",
    "reg = MLRNetRegressor(random_state = seed, **NN_params)\n",
    "reg.fit(X_train,y_train)\n",
    "print(\"Regular Net-wide\",\"R2-score :\",reg.score(X_test, y_test))\n",
    "reg.delete_model_weights()  #else gpu memory leaks\n",
    "del reg"
   ]
  }
 ],
 "metadata": {
  "kernelspec": {
   "display_name": "Python [conda env:MLR]",
   "language": "python",
   "name": "conda-env-MLR-py"
  },
  "language_info": {
   "codemirror_mode": {
    "name": "ipython",
    "version": 3
   },
   "file_extension": ".py",
   "mimetype": "text/x-python",
   "name": "python",
   "nbconvert_exporter": "python",
   "pygments_lexer": "ipython3",
   "version": "3.7.11"
  }
 },
 "nbformat": 4,
 "nbformat_minor": 5
}
